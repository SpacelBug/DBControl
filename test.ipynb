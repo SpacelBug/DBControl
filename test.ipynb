{
 "cells": [
  {
   "cell_type": "code",
   "execution_count": null,
   "metadata": {
    "collapsed": true
   },
   "outputs": [],
   "source": [
    "'''Тесты и примеры работы модуля'''"
   ]
  },
  {
   "cell_type": "code",
   "execution_count": null,
   "outputs": [],
   "source": [
    "import datetime\n",
    "import time\n",
    "\n",
    "from dbcontrol import dataBase\n",
    "import host\n",
    "\n",
    "db=dataBase('MySQL', host.login, host.password, host.adress, host.dbName)\n",
    "db.createTemplatesForTables()\n",
    "db.showTablesTemplates('seis')\n",
    "stat = db.select('seis', condition=\"WHERE data<2020-12-31\")\n",
    "stat.showRow(5)"
   ],
   "metadata": {
    "collapsed": false
   }
  }
 ],
 "metadata": {
  "kernelspec": {
   "display_name": "Python 3",
   "language": "python",
   "name": "python3"
  },
  "language_info": {
   "codemirror_mode": {
    "name": "ipython",
    "version": 2
   },
   "file_extension": ".py",
   "mimetype": "text/x-python",
   "name": "python",
   "nbconvert_exporter": "python",
   "pygments_lexer": "ipython2",
   "version": "2.7.6"
  }
 },
 "nbformat": 4,
 "nbformat_minor": 0
}
