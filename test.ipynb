{
 "cells": [
  {
   "cell_type": "code",
   "execution_count": null,
   "metadata": {
    "collapsed": true
   },
   "outputs": [],
   "source": [
    "'''Тесты и примеры работы модуля'''"
   ]
  },
  {
   "cell_type": "code",
   "execution_count": 3,
   "outputs": [
    {
     "name": "stdout",
     "output_type": "stream",
     "text": [
      "['1', \"'2007-01-01 00:00'\", '-1', '', '', '', '', '', '', '']\n",
      "['1', \"'2007-01-02 00:00'\", '12', '54', '-14.4', '', '', '', '', '']\n",
      "['1', \"'2007-01-03 00:00'\", '20', '50.7', '-27.5', '', '', '', '', '']\n",
      "['1', \"'2007-01-04 00:00'\", '10', '50', '-21', '', '', '', '', '']\n",
      "['1', \"'2007-01-05 00:00'\", '6', '56.9', '-40', '', '', '', '', '']\n",
      "['1', \"'2007-01-06 00:00'\", '4', '56.9', '-32', '', '', '', 'Близнецов', '']\n",
      "['1', \"'2007-01-07 00:00'\", '14', '56.9', '-26.4', '', '', '', '', '']\n",
      "['1', \"'2007-01-08 00:00'\", '8', '56.9', '-13', '', '', '', '', '']\n",
      "['1', \"'2007-01-09 00:00'\", '3', '34.6', '-21', '', '', '', '', '']\n",
      "['1', \"'2007-01-10 00:00'\", '7', '63', '-17', '', '', '', '', '']\n"
     ]
    }
   ],
   "source": [
    "import datetime\n",
    "import time\n",
    "\n",
    "from dbcontrol import dataBase\n",
    "import host\n",
    "\n",
    "db=dataBase('MySQL', host.login, host.password, host.adress, host.dbName, host.port)\n",
    "table = db.select('sput')\n",
    "table.conColumns(1,2)\n",
    "table.colToStr(1)\n",
    "table.showData(10)"
   ],
   "metadata": {
    "collapsed": false
   }
  }
 ],
 "metadata": {
  "kernelspec": {
   "display_name": "Python 3",
   "language": "python",
   "name": "python3"
  },
  "language_info": {
   "codemirror_mode": {
    "name": "ipython",
    "version": 2
   },
   "file_extension": ".py",
   "mimetype": "text/x-python",
   "name": "python",
   "nbconvert_exporter": "python",
   "pygments_lexer": "ipython2",
   "version": "2.7.6"
  }
 },
 "nbformat": 4,
 "nbformat_minor": 0
}
