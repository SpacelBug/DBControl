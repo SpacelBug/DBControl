{
 "cells": [
  {
   "cell_type": "code",
   "execution_count": null,
   "metadata": {
    "collapsed": true
   },
   "outputs": [],
   "source": [
    "'''Тесты и примеры работы модуля'''"
   ]
  },
  {
   "cell_type": "code",
   "execution_count": null,
   "outputs": [],
   "source": [
    "''''''\n",
    "\n",
    "from dbcontrol import dataBase\n",
    "import host\n",
    "# Создаем класс БД\n",
    "#\n",
    "# Параменты на вход:\n",
    "#    - Название СУБД\n",
    "#    - Логин к БД\n",
    "#    - Пароль\n",
    "#    - Адрес\n",
    "#    - Название БД\n",
    "#    - Порт\n",
    "#    - Название схемы (для postgres)\n",
    "db=dataBase('MySQL', host.login, host.password, host.adress, host.dbName, host.port)"
   ],
   "metadata": {
    "collapsed": false
   }
  },
  {
   "cell_type": "code",
   "execution_count": 1,
   "outputs": [
    {
     "name": "stdout",
     "output_type": "stream",
     "text": [
      "['1', \"'2007-01-01 00:00'\", '-1', '', '', '', '', '', '', '']\n",
      "['1', \"'2007-01-02 00:00'\", '12', '54', '-14.4', '', '', '', '', '']\n",
      "['1', \"'2007-01-03 00:00'\", '20', '50.7', '-27.5', '', '', '', '', '']\n",
      "['1', \"'2007-01-04 00:00'\", '10', '50', '-21', '', '', '', '', '']\n",
      "['1', \"'2007-01-05 00:00'\", '6', '56.9', '-40', '', '', '', '', '']\n",
      "['1', \"'2007-01-06 00:00'\", '4', '56.9', '-32', '', '', '', 'Близнецов', '']\n",
      "['1', \"'2007-01-07 00:00'\", '14', '56.9', '-26.4', '', '', '', '', '']\n",
      "['1', \"'2007-01-08 00:00'\", '8', '56.9', '-13', '', '', '', '', '']\n",
      "['1', \"'2007-01-09 00:00'\", '3', '34.6', '-21', '', '', '', '', '']\n",
      "['1', \"'2007-01-10 00:00'\", '7', '63', '-17', '', '', '', '', '']\n",
      "INSERT INTO satelliteObservation (\"name1\",\"name2\",\"name3\",\"name4\") values (1,'2007-01-01 00:00',-1,Null,Null,Null,Null,Null,Null,Null)\n",
      "INSERT INTO satelliteObservation (\"name1\",\"name2\",\"name3\",\"name4\") values (1,'2007-01-02 00:00',12,54,-14.4,Null,Null,Null,Null,Null)\n",
      "INSERT INTO satelliteObservation (\"name1\",\"name2\",\"name3\",\"name4\") values (1,'2007-01-03 00:00',20,50.7,-27.5,Null,Null,Null,Null,Null)\n",
      "INSERT INTO satelliteObservation (\"name1\",\"name2\",\"name3\",\"name4\") values (1,'2007-01-04 00:00',10,50,-21,Null,Null,Null,Null,Null)\n",
      "INSERT INTO satelliteObservation (\"name1\",\"name2\",\"name3\",\"name4\") values (1,'2007-01-05 00:00',6,56.9,-40,Null,Null,Null,Null,Null)\n",
      "INSERT INTO satelliteObservation (\"name1\",\"name2\",\"name3\",\"name4\") values (1,'2007-01-06 00:00',4,56.9,-32,Null,Null,Null,Близнецов,Null)\n",
      "INSERT INTO satelliteObservation (\"name1\",\"name2\",\"name3\",\"name4\") values (1,'2007-01-07 00:00',14,56.9,-26.4,Null,Null,Null,Null,Null)\n",
      "INSERT INTO satelliteObservation (\"name1\",\"name2\",\"name3\",\"name4\") values (1,'2007-01-08 00:00',8,56.9,-13,Null,Null,Null,Null,Null)\n",
      "INSERT INTO satelliteObservation (\"name1\",\"name2\",\"name3\",\"name4\") values (1,'2007-01-09 00:00',3,34.6,-21,Null,Null,Null,Null,Null)\n",
      "INSERT INTO satelliteObservation (\"name1\",\"name2\",\"name3\",\"name4\") values (1,'2007-01-10 00:00',7,63,-17,Null,Null,Null,Null,Null)\n"
     ]
    }
   ],
   "source": [
    "'''Работа с таблицами и их классом'''\n",
    "# Выбираем табличку (для нее создается свой класс)\n",
    "table = db.select('tableName')\n",
    "# Вывод 10 строк таблицы\n",
    "table.showData(10)\n",
    "# Объединяет две колонки с указ индексами\n",
    "table.conColumns(1,2)\n",
    "# Обрамляет значения в указ колонке в еще одни кавычки\n",
    "table.colToStr(1)\n",
    "# Возвращает всю таблицу целиком в качестве списка\n",
    "table.getData()"
   ],
   "metadata": {
    "collapsed": false
   }
  },
  {
   "cell_type": "code",
   "execution_count": null,
   "outputs": [],
   "source": [
    "'''Импорт данных'''\n",
    "# Вставляет в указанную таблицу принимаемые значения, в соответствии с заданными параметрами\n",
    "# listOfColNames - список названий полей для вставки\n",
    "#\n",
    "# Пример получаемого запроса\n",
    "# INSERT INTO tableName (\"name1\",\"name2\",\"name3\",\"name4\") values (1,'hello',-1,Null)\n",
    "db.importData('tableName', listOfColNames, table.getData())"
   ],
   "metadata": {
    "collapsed": false
   }
  },
  {
   "cell_type": "code",
   "execution_count": null,
   "outputs": [],
   "source": [
    "'''Работа с главным классом ДБ'''"
   ],
   "metadata": {
    "collapsed": false
   }
  }
 ],
 "metadata": {
  "kernelspec": {
   "display_name": "Python 3",
   "language": "python",
   "name": "python3"
  },
  "language_info": {
   "codemirror_mode": {
    "name": "ipython",
    "version": 2
   },
   "file_extension": ".py",
   "mimetype": "text/x-python",
   "name": "python",
   "nbconvert_exporter": "python",
   "pygments_lexer": "ipython2",
   "version": "2.7.6"
  }
 },
 "nbformat": 4,
 "nbformat_minor": 0
}
